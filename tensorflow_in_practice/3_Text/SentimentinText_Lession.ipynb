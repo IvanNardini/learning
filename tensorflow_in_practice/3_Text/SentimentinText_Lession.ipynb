{
  "nbformat": 4,
  "nbformat_minor": 0,
  "metadata": {
    "colab": {
      "name": "SentimentinText_Lession.ipynb",
      "provenance": [],
      "toc_visible": true
    },
    "kernelspec": {
      "name": "python3",
      "display_name": "Python 3"
    },
    "accelerator": "GPU"
  },
  "cells": [
    {
      "cell_type": "markdown",
      "metadata": {
        "id": "FN7POtsDfOfd",
        "colab_type": "text"
      },
      "source": [
        "# Sentiment analysis "
      ]
    },
    {
      "cell_type": "markdown",
      "metadata": {
        "id": "37OCP7utB3_1",
        "colab_type": "text"
      },
      "source": [
        "## Basics"
      ]
    },
    {
      "cell_type": "code",
      "metadata": {
        "id": "soJqUrzufZns",
        "colab_type": "code",
        "colab": {}
      },
      "source": [
        "import numpy as np\n",
        "import tensorflow as tf\n",
        "from tensorflow.keras.preprocessing.text import Tokenizer"
      ],
      "execution_count": 0,
      "outputs": []
    },
    {
      "cell_type": "code",
      "metadata": {
        "id": "_GCWEEz-fnLr",
        "colab_type": "code",
        "colab": {}
      },
      "source": [
        "test = [\"Ivan's studying\", \"He's hungry\"]"
      ],
      "execution_count": 0,
      "outputs": []
    },
    {
      "cell_type": "code",
      "metadata": {
        "id": "I8DXklWOf-pU",
        "colab_type": "code",
        "outputId": "5ca623b1-180e-4d86-9c5d-5142e76c09ad",
        "colab": {
          "base_uri": "https://localhost:8080/",
          "height": 51
        }
      },
      "source": [
        "tokenizer = Tokenizer(num_words=100)\n",
        "tokenizer.fit_on_texts(test)  \n",
        "widx = tokenizer.word_index\n",
        "print(widx)\n",
        "\n",
        "sequences = tokenizer.texts_to_sequences(test)\n",
        "\n",
        "print(sequences)"
      ],
      "execution_count": 3,
      "outputs": [
        {
          "output_type": "stream",
          "text": [
            "{\"ivan's\": 1, 'studying': 2, \"he's\": 3, 'hungry': 4}\n",
            "[[1, 2], [3, 4]]\n"
          ],
          "name": "stdout"
        }
      ]
    },
    {
      "cell_type": "markdown",
      "metadata": {
        "id": "RzBT610uByIS",
        "colab_type": "text"
      },
      "source": [
        "## Problem: New words outside training sample"
      ]
    },
    {
      "cell_type": "code",
      "metadata": {
        "id": "2HPUwrQCB0fV",
        "colab_type": "code",
        "colab": {}
      },
      "source": [
        "fail = [\"Ivan's studying\", \"He's hungry\", \"He's tired\"]"
      ],
      "execution_count": 0,
      "outputs": []
    },
    {
      "cell_type": "code",
      "metadata": {
        "id": "DdkJG0E0B_iU",
        "colab_type": "code",
        "outputId": "aca293f0-0692-4a96-a77b-9fdfc4f317c9",
        "colab": {
          "base_uri": "https://localhost:8080/",
          "height": 34
        }
      },
      "source": [
        "sequences = tokenizer.texts_to_sequences(fail)\n",
        "\n",
        "print(sequences)"
      ],
      "execution_count": 5,
      "outputs": [
        {
          "output_type": "stream",
          "text": [
            "[[1, 2], [3, 4], [3]]\n"
          ],
          "name": "stdout"
        }
      ]
    },
    {
      "cell_type": "code",
      "metadata": {
        "id": "qVMBCSMaEPiD",
        "colab_type": "code",
        "outputId": "88212fe8-c096-438c-dbf9-6c46225f8e79",
        "colab": {
          "base_uri": "https://localhost:8080/",
          "height": 51
        }
      },
      "source": [
        "# To avoid this problem...\n",
        "tokenizer = Tokenizer(num_words=100, oov_token='<OOV>')\n",
        "tokenizer.fit_on_texts(fail)  \n",
        "widx = tokenizer.word_index\n",
        "print(widx)\n",
        "\n",
        "sequences = tokenizer.texts_to_sequences(fail)\n",
        "\n",
        "print(sequences)"
      ],
      "execution_count": 6,
      "outputs": [
        {
          "output_type": "stream",
          "text": [
            "{'<OOV>': 1, \"he's\": 2, \"ivan's\": 3, 'studying': 4, 'hungry': 5, 'tired': 6}\n",
            "[[3, 4], [2, 5], [2, 6]]\n"
          ],
          "name": "stdout"
        }
      ]
    },
    {
      "cell_type": "markdown",
      "metadata": {
        "id": "SpTopuGrE7Zc",
        "colab_type": "text"
      },
      "source": [
        "## Padding"
      ]
    },
    {
      "cell_type": "code",
      "metadata": {
        "id": "1NljNHngI3Oo",
        "colab_type": "code",
        "outputId": "ef5dfd4d-40f9-4207-9b97-3e6f1c5434e3",
        "colab": {
          "base_uri": "https://localhost:8080/",
          "height": 102
        }
      },
      "source": [
        "from tensorflow.keras.preprocessing.sequence import pad_sequences\n",
        "padded = pad_sequences(sequences, maxlen=2)\n",
        "print(padded)\n",
        "print('\\n' + str(type(padded)))"
      ],
      "execution_count": 17,
      "outputs": [
        {
          "output_type": "stream",
          "text": [
            "[[3 4]\n",
            " [2 5]\n",
            " [2 6]]\n",
            "\n",
            "<class 'numpy.ndarray'>\n"
          ],
          "name": "stdout"
        }
      ]
    },
    {
      "cell_type": "markdown",
      "metadata": {
        "id": "YYGjsiiHWbaA",
        "colab_type": "text"
      },
      "source": [
        "Notice: If we have a maxlen smaller than 2, we lose info in this case\n"
      ]
    },
    {
      "cell_type": "code",
      "metadata": {
        "id": "bAbnhysKWvCK",
        "colab_type": "code",
        "colab": {
          "base_uri": "https://localhost:8080/",
          "height": 68
        },
        "outputId": "3952cf3a-0cdf-4086-828e-97b6c5eb7392"
      },
      "source": [
        "test = pad_sequences(sequences, maxlen=1)\n",
        "print(test)"
      ],
      "execution_count": 14,
      "outputs": [
        {
          "output_type": "stream",
          "text": [
            "[[4]\n",
            " [5]\n",
            " [6]]\n"
          ],
          "name": "stdout"
        }
      ]
    },
    {
      "cell_type": "code",
      "metadata": {
        "id": "zz15F_PnI8-v",
        "colab_type": "code",
        "outputId": "bd7dd141-7d59-4942-9b55-e4fd578f415a",
        "colab": {
          "base_uri": "https://localhost:8080/",
          "height": 68
        }
      },
      "source": [
        "padded = pad_sequences(sequences,\n",
        "                       maxlen = 3, \n",
        "                       padding='post')\n",
        "print(padded)"
      ],
      "execution_count": 8,
      "outputs": [
        {
          "output_type": "stream",
          "text": [
            "[[3 4 0]\n",
            " [2 5 0]\n",
            " [2 6 0]]\n"
          ],
          "name": "stdout"
        }
      ]
    },
    {
      "cell_type": "code",
      "metadata": {
        "id": "8Ruc0omXKLjk",
        "colab_type": "code",
        "colab": {
          "base_uri": "https://localhost:8080/",
          "height": 136
        },
        "outputId": "14e57043-2a3a-4abf-95e1-84019a8eec85"
      },
      "source": [
        "print(widx)\n",
        "print(sequences)\n",
        "print('\\nPadded Test Seuquence: ')\n",
        "print(padded)"
      ],
      "execution_count": 11,
      "outputs": [
        {
          "output_type": "stream",
          "text": [
            "{'<OOV>': 1, \"he's\": 2, \"ivan's\": 3, 'studying': 4, 'hungry': 5, 'tired': 6}\n",
            "[[3, 4], [2, 5], [2, 6]]\n",
            "\n",
            "Padded Test Seuquence: \n",
            "[[3 4 0]\n",
            " [2 5 0]\n",
            " [2 6 0]]\n"
          ],
          "name": "stdout"
        }
      ]
    },
    {
      "cell_type": "code",
      "metadata": {
        "id": "t09Hc8MNWEIU",
        "colab_type": "code",
        "colab": {}
      },
      "source": [
        ""
      ],
      "execution_count": 0,
      "outputs": []
    }
  ]
}