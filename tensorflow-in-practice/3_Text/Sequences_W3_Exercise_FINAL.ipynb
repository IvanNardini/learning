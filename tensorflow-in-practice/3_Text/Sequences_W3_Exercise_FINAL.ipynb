{
  "nbformat": 4,
  "nbformat_minor": 0,
  "metadata": {
    "accelerator": "GPU",
    "colab": {
      "name": "NLP Course - Week 3 Exercise Question.ipynb",
      "provenance": [],
      "toc_visible": true
    },
    "kernelspec": {
      "display_name": "Python 3",
      "name": "python3"
    }
  },
  "cells": [
    {
      "cell_type": "code",
      "metadata": {
        "id": "zX4Kg8DUTKWO",
        "colab_type": "code",
        "colab": {}
      },
      "source": [
        "#@title Licensed under the Apache License, Version 2.0 (the \"License\");\n",
        "# you may not use this file except in compliance with the License.\n",
        "# You may obtain a copy of the License at\n",
        "#\n",
        "# https://www.apache.org/licenses/LICENSE-2.0\n",
        "#\n",
        "# Unless required by applicable law or agreed to in writing, software\n",
        "# distributed under the License is distributed on an \"AS IS\" BASIS,\n",
        "# WITHOUT WARRANTIES OR CONDITIONS OF ANY KIND, either express or implied.\n",
        "# See the License for the specific language governing permissions and\n",
        "# limitations under the License."
      ],
      "execution_count": 0,
      "outputs": []
    },
    {
      "cell_type": "code",
      "metadata": {
        "colab_type": "code",
        "id": "hmA6EzkQJ5jt",
        "colab": {}
      },
      "source": [
        "import json\n",
        "import tensorflow as tf\n",
        "import csv\n",
        "import random\n",
        "import numpy as np\n",
        "\n",
        "from tensorflow.keras.preprocessing.text import Tokenizer\n",
        "from tensorflow.keras.preprocessing.sequence import pad_sequences\n",
        "from tensorflow.keras.utils import to_categorical\n",
        "from tensorflow.keras import regularizers\n",
        "\n",
        "\n",
        "embedding_dim = 100\n",
        "max_length = 16\n",
        "trunc_type='post'\n",
        "padding_type='post'\n",
        "oov_tok = \"<OOV>\"\n",
        "training_size=160000\n",
        "test_portion=.1\n",
        "\n",
        "corpus = []\n"
      ],
      "execution_count": 0,
      "outputs": []
    },
    {
      "cell_type": "code",
      "metadata": {
        "colab_type": "code",
        "id": "bM0l_dORKqE0",
        "outputId": "6fa3d130-536f-4819-9e8c-1a717ade224a",
        "colab": {
          "base_uri": "https://localhost:8080/",
          "height": 204
        }
      },
      "source": [
        "# Note that I cleaned the Stanford dataset to remove LATIN1 encoding to make it easier for Python CSV reader\n",
        "# You can do that yourself with:\n",
        "# iconv -f LATIN1 -t UTF8 training.1600000.processed.noemoticon.csv -o training_cleaned.csv\n",
        "# I then hosted it on my site to make it easier to use in this notebook\n",
        "\n",
        "!wget --no-check-certificate \\\n",
        "    https://storage.googleapis.com/laurencemoroney-blog.appspot.com/training_cleaned.csv \\\n",
        "    -O /tmp/training_cleaned.csv\n",
        "\n",
        "num_sentences = 0\n",
        "\n",
        "with open(\"/tmp/training_cleaned.csv\") as csvfile:\n",
        "    reader = csv.reader(csvfile, delimiter=',')\n",
        "    for row in reader:\n",
        "      # Your Code here. Create list items where the first item is the text, found in row[5], and the second is the label. Note that the label is a '0' or a '4' in the text. When it's the former, make\n",
        "      # your label to be 0, otherwise 1. Keep a count of the number of sentences in num_sentences\n",
        "        list_item=[]\n",
        "        list_item.append(row[5])\n",
        "        label = row[0]\n",
        "        if label == '0':\n",
        "          list_item.append(0)\n",
        "        else:\n",
        "          list_item.append(1)\n",
        "        num_sentences = num_sentences + 1\n",
        "        corpus.append(list_item)\n"
      ],
      "execution_count": 2,
      "outputs": [
        {
          "output_type": "stream",
          "text": [
            "--2020-05-13 06:05:34--  https://storage.googleapis.com/laurencemoroney-blog.appspot.com/training_cleaned.csv\n",
            "Resolving storage.googleapis.com (storage.googleapis.com)... 74.125.133.128, 2a00:1450:400c:c07::80\n",
            "Connecting to storage.googleapis.com (storage.googleapis.com)|74.125.133.128|:443... connected.\n",
            "HTTP request sent, awaiting response... 200 OK\n",
            "Length: 238942690 (228M) [application/octet-stream]\n",
            "Saving to: ‘/tmp/training_cleaned.csv’\n",
            "\n",
            "/tmp/training_clean 100%[===================>] 227.87M   209MB/s    in 1.1s    \n",
            "\n",
            "2020-05-13 06:05:35 (209 MB/s) - ‘/tmp/training_cleaned.csv’ saved [238942690/238942690]\n",
            "\n"
          ],
          "name": "stdout"
        }
      ]
    },
    {
      "cell_type": "code",
      "metadata": {
        "colab_type": "code",
        "id": "3kxblBUjEUX-",
        "outputId": "065b907d-eb2f-4fcd-f267-18fadd35be9a",
        "colab": {
          "base_uri": "https://localhost:8080/",
          "height": 68
        }
      },
      "source": [
        "print(num_sentences)\n",
        "print(len(corpus))\n",
        "print(corpus[1])\n",
        "\n",
        "# Expected Output:\n",
        "# 1600000\n",
        "# 1600000\n",
        "# [\"is upset that he can't update his Facebook by texting it... and might cry as a result  School today also. Blah!\", 0]"
      ],
      "execution_count": 3,
      "outputs": [
        {
          "output_type": "stream",
          "text": [
            "1600000\n",
            "1600000\n",
            "[\"is upset that he can't update his Facebook by texting it... and might cry as a result  School today also. Blah!\", 0]\n"
          ],
          "name": "stdout"
        }
      ]
    },
    {
      "cell_type": "code",
      "metadata": {
        "colab_type": "code",
        "id": "ohOGz24lsNAD",
        "colab": {}
      },
      "source": [
        "sentences=[]\n",
        "labels=[]\n",
        "random.shuffle(corpus)\n",
        "for x in range(training_size):\n",
        "    sentences.append(corpus[x][0])\n",
        "    labels.append(corpus[x][1])\n",
        "\n",
        "\n",
        "tokenizer = Tokenizer()\n",
        "tokenizer.fit_on_texts(sentences)\n",
        "\n",
        "word_index = tokenizer.word_index\n",
        "vocab_size=len(word_index)\n",
        "\n",
        "sequences = tokenizer.texts_to_sequences(sentences)\n",
        "padded = pad_sequences(sequences, maxlen=max_length, padding=padding_type, truncating=trunc_type)\n",
        "\n",
        "split = int(test_portion * training_size)\n",
        "\n",
        "test_sequences = padded[0:split]\n",
        "training_sequences = padded[split:training_size]\n",
        "test_labels = labels[0:split]\n",
        "training_labels = labels[split:training_size]\n",
        "\n",
        "training_sequences = np.array(training_sequences)\n",
        "training_labels = np.array(training_labels)\n",
        "test_sequences = np.array(test_sequences)\n",
        "test_labels = np.array(test_labels)\n"
      ],
      "execution_count": 0,
      "outputs": []
    },
    {
      "cell_type": "code",
      "metadata": {
        "colab_type": "code",
        "id": "gIrtRem1En3N",
        "outputId": "5794f331-6de4-4996-a880-a05c8a25216d",
        "colab": {
          "base_uri": "https://localhost:8080/",
          "height": 51
        }
      },
      "source": [
        "print(vocab_size)\n",
        "print(word_index['i'])\n",
        "# Expected Output\n",
        "# 138858\n",
        "# 1"
      ],
      "execution_count": 13,
      "outputs": [
        {
          "output_type": "stream",
          "text": [
            "138156\n",
            "1\n"
          ],
          "name": "stdout"
        }
      ]
    },
    {
      "cell_type": "code",
      "metadata": {
        "colab_type": "code",
        "id": "C1zdgJkusRh0",
        "outputId": "d73eb0ac-59f0-42b1-931b-74f2ff8f6885",
        "colab": {
          "base_uri": "https://localhost:8080/",
          "height": 204
        }
      },
      "source": [
        "# Note this is the 100 dimension version of GloVe from Stanford\n",
        "# I unzipped and hosted it on my site to make this notebook easier\n",
        "!wget --no-check-certificate \\\n",
        "    https://storage.googleapis.com/laurencemoroney-blog.appspot.com/glove.6B.100d.txt \\\n",
        "    -O /tmp/glove.6B.100d.txt\n",
        "embeddings_index = {};\n",
        "with open('/tmp/glove.6B.100d.txt') as f:\n",
        "    for line in f:\n",
        "        values = line.split();\n",
        "        word = values[0];\n",
        "        coefs = np.asarray(values[1:], dtype='float32');\n",
        "        embeddings_index[word] = coefs;\n",
        "\n",
        "embeddings_matrix = np.zeros((vocab_size+1, embedding_dim));\n",
        "for word, i in word_index.items():\n",
        "    embedding_vector = embeddings_index.get(word);\n",
        "    if embedding_vector is not None:\n",
        "        embeddings_matrix[i] = embedding_vector;"
      ],
      "execution_count": 14,
      "outputs": [
        {
          "output_type": "stream",
          "text": [
            "--2020-05-13 06:20:28--  https://storage.googleapis.com/laurencemoroney-blog.appspot.com/glove.6B.100d.txt\n",
            "Resolving storage.googleapis.com (storage.googleapis.com)... 74.125.71.128, 2a00:1450:400c:c07::80\n",
            "Connecting to storage.googleapis.com (storage.googleapis.com)|74.125.71.128|:443... connected.\n",
            "HTTP request sent, awaiting response... 200 OK\n",
            "Length: 347116733 (331M) [text/plain]\n",
            "Saving to: ‘/tmp/glove.6B.100d.txt’\n",
            "\n",
            "/tmp/glove.6B.100d. 100%[===================>] 331.04M  83.8MB/s    in 4.0s    \n",
            "\n",
            "2020-05-13 06:20:33 (83.8 MB/s) - ‘/tmp/glove.6B.100d.txt’ saved [347116733/347116733]\n",
            "\n"
          ],
          "name": "stdout"
        }
      ]
    },
    {
      "cell_type": "code",
      "metadata": {
        "colab_type": "code",
        "id": "71NLk_lpFLNt",
        "outputId": "5d8671f1-780c-4414-f2ac-cc50b5e7e3c5",
        "colab": {
          "base_uri": "https://localhost:8080/",
          "height": 34
        }
      },
      "source": [
        "print(len(embeddings_matrix))\n",
        "# Expected Output\n",
        "# 138859"
      ],
      "execution_count": 15,
      "outputs": [
        {
          "output_type": "stream",
          "text": [
            "138157\n"
          ],
          "name": "stdout"
        }
      ]
    },
    {
      "cell_type": "code",
      "metadata": {
        "colab_type": "code",
        "id": "iKKvbuEBOGFz",
        "colab": {
          "base_uri": "https://localhost:8080/",
          "height": 1000
        },
        "outputId": "50506324-ff2b-4586-ca5a-807e00cb8382"
      },
      "source": [
        "model = tf.keras.Sequential([\n",
        "    tf.keras.layers.Embedding(vocab_size+1, embedding_dim, input_length=max_length, weights=[embeddings_matrix], trainable=False),\n",
        "    # YOUR CODE HERE - experiment with combining different types, such as convolutions and LSTMs\n",
        "    tf.keras.layers.Bidirectional(tf.keras.layers.LSTM(64)),\n",
        "    tf.keras.layers.Dense(1, activation='sigmoid')\n",
        "])\n",
        "model.compile(loss='binary_crossentropy',optimizer='adam',metrics=['accuracy'])\n",
        "model.summary()\n",
        "\n",
        "num_epochs = 50\n",
        "history = model.fit(training_sequences, training_labels, epochs=num_epochs, validation_data=(test_sequences, test_labels), verbose=2)\n",
        "\n",
        "print(\"Training Complete\")\n"
      ],
      "execution_count": 16,
      "outputs": [
        {
          "output_type": "stream",
          "text": [
            "Model: \"sequential_3\"\n",
            "_________________________________________________________________\n",
            "Layer (type)                 Output Shape              Param #   \n",
            "=================================================================\n",
            "embedding_3 (Embedding)      (None, 16, 100)           13815700  \n",
            "_________________________________________________________________\n",
            "bidirectional_2 (Bidirection (None, 128)               84480     \n",
            "_________________________________________________________________\n",
            "dense_4 (Dense)              (None, 1)                 129       \n",
            "=================================================================\n",
            "Total params: 13,900,309\n",
            "Trainable params: 84,609\n",
            "Non-trainable params: 13,815,700\n",
            "_________________________________________________________________\n",
            "Epoch 1/50\n",
            "4500/4500 - 54s - loss: 0.5324 - accuracy: 0.7286 - val_loss: 0.5030 - val_accuracy: 0.7527\n",
            "Epoch 2/50\n",
            "4500/4500 - 54s - loss: 0.4837 - accuracy: 0.7643 - val_loss: 0.4848 - val_accuracy: 0.7627\n",
            "Epoch 3/50\n",
            "4500/4500 - 53s - loss: 0.4581 - accuracy: 0.7809 - val_loss: 0.4767 - val_accuracy: 0.7693\n",
            "Epoch 4/50\n",
            "4500/4500 - 53s - loss: 0.4370 - accuracy: 0.7947 - val_loss: 0.4792 - val_accuracy: 0.7700\n",
            "Epoch 5/50\n",
            "4500/4500 - 53s - loss: 0.4160 - accuracy: 0.8065 - val_loss: 0.4856 - val_accuracy: 0.7676\n",
            "Epoch 6/50\n",
            "4500/4500 - 53s - loss: 0.3956 - accuracy: 0.8184 - val_loss: 0.4818 - val_accuracy: 0.7686\n",
            "Epoch 7/50\n",
            "4500/4500 - 53s - loss: 0.3753 - accuracy: 0.8300 - val_loss: 0.5077 - val_accuracy: 0.7636\n",
            "Epoch 8/50\n",
            "4500/4500 - 53s - loss: 0.3546 - accuracy: 0.8404 - val_loss: 0.5252 - val_accuracy: 0.7663\n",
            "Epoch 9/50\n",
            "4500/4500 - 53s - loss: 0.3351 - accuracy: 0.8515 - val_loss: 0.5405 - val_accuracy: 0.7588\n",
            "Epoch 10/50\n",
            "4500/4500 - 53s - loss: 0.3157 - accuracy: 0.8615 - val_loss: 0.5510 - val_accuracy: 0.7573\n",
            "Epoch 11/50\n",
            "4500/4500 - 53s - loss: 0.2974 - accuracy: 0.8713 - val_loss: 0.5979 - val_accuracy: 0.7442\n",
            "Epoch 12/50\n",
            "4500/4500 - 52s - loss: 0.2791 - accuracy: 0.8810 - val_loss: 0.6243 - val_accuracy: 0.7521\n",
            "Epoch 13/50\n",
            "4500/4500 - 52s - loss: 0.2624 - accuracy: 0.8879 - val_loss: 0.6406 - val_accuracy: 0.7452\n",
            "Epoch 14/50\n",
            "4500/4500 - 52s - loss: 0.2460 - accuracy: 0.8965 - val_loss: 0.6696 - val_accuracy: 0.7461\n",
            "Epoch 15/50\n",
            "4500/4500 - 52s - loss: 0.2308 - accuracy: 0.9029 - val_loss: 0.7145 - val_accuracy: 0.7453\n",
            "Epoch 16/50\n",
            "4500/4500 - 52s - loss: 0.2168 - accuracy: 0.9102 - val_loss: 0.7236 - val_accuracy: 0.7437\n",
            "Epoch 17/50\n",
            "4500/4500 - 52s - loss: 0.2032 - accuracy: 0.9171 - val_loss: 0.7974 - val_accuracy: 0.7416\n",
            "Epoch 18/50\n",
            "4500/4500 - 53s - loss: 0.1908 - accuracy: 0.9228 - val_loss: 0.8179 - val_accuracy: 0.7386\n",
            "Epoch 19/50\n",
            "4500/4500 - 53s - loss: 0.1807 - accuracy: 0.9265 - val_loss: 0.8683 - val_accuracy: 0.7392\n",
            "Epoch 20/50\n",
            "4500/4500 - 53s - loss: 0.1700 - accuracy: 0.9320 - val_loss: 0.9273 - val_accuracy: 0.7362\n",
            "Epoch 21/50\n",
            "4500/4500 - 53s - loss: 0.1613 - accuracy: 0.9355 - val_loss: 0.9517 - val_accuracy: 0.7383\n",
            "Epoch 22/50\n",
            "4500/4500 - 53s - loss: 0.1528 - accuracy: 0.9395 - val_loss: 0.9767 - val_accuracy: 0.7308\n",
            "Epoch 23/50\n",
            "4500/4500 - 53s - loss: 0.1446 - accuracy: 0.9427 - val_loss: 1.0380 - val_accuracy: 0.7309\n",
            "Epoch 24/50\n",
            "4500/4500 - 53s - loss: 0.1366 - accuracy: 0.9462 - val_loss: 1.0918 - val_accuracy: 0.7311\n",
            "Epoch 25/50\n",
            "4500/4500 - 53s - loss: 0.1327 - accuracy: 0.9480 - val_loss: 1.1132 - val_accuracy: 0.7309\n",
            "Epoch 26/50\n",
            "4500/4500 - 53s - loss: 0.1241 - accuracy: 0.9512 - val_loss: 1.1588 - val_accuracy: 0.7291\n",
            "Epoch 27/50\n",
            "4500/4500 - 53s - loss: 0.1219 - accuracy: 0.9524 - val_loss: 1.1808 - val_accuracy: 0.7331\n",
            "Epoch 28/50\n",
            "4500/4500 - 53s - loss: 0.1151 - accuracy: 0.9555 - val_loss: 1.2255 - val_accuracy: 0.7344\n",
            "Epoch 29/50\n",
            "4500/4500 - 53s - loss: 0.1111 - accuracy: 0.9567 - val_loss: 1.2724 - val_accuracy: 0.7301\n",
            "Epoch 30/50\n",
            "4500/4500 - 53s - loss: 0.1063 - accuracy: 0.9595 - val_loss: 1.2915 - val_accuracy: 0.7300\n",
            "Epoch 31/50\n",
            "4500/4500 - 53s - loss: 0.1032 - accuracy: 0.9602 - val_loss: 1.3568 - val_accuracy: 0.7284\n",
            "Epoch 32/50\n",
            "4500/4500 - 52s - loss: 0.0979 - accuracy: 0.9618 - val_loss: 1.3565 - val_accuracy: 0.7269\n",
            "Epoch 33/50\n",
            "4500/4500 - 52s - loss: 0.0976 - accuracy: 0.9623 - val_loss: 1.4025 - val_accuracy: 0.7268\n",
            "Epoch 34/50\n",
            "4500/4500 - 53s - loss: 0.0942 - accuracy: 0.9638 - val_loss: 1.4487 - val_accuracy: 0.7303\n",
            "Epoch 35/50\n",
            "4500/4500 - 52s - loss: 0.0913 - accuracy: 0.9647 - val_loss: 1.4412 - val_accuracy: 0.7273\n",
            "Epoch 36/50\n",
            "4500/4500 - 53s - loss: 0.0901 - accuracy: 0.9653 - val_loss: 1.5005 - val_accuracy: 0.7276\n",
            "Epoch 37/50\n",
            "4500/4500 - 53s - loss: 0.0857 - accuracy: 0.9670 - val_loss: 1.5163 - val_accuracy: 0.7253\n",
            "Epoch 38/50\n",
            "4500/4500 - 53s - loss: 0.0860 - accuracy: 0.9669 - val_loss: 1.5262 - val_accuracy: 0.7280\n",
            "Epoch 39/50\n",
            "4500/4500 - 53s - loss: 0.0847 - accuracy: 0.9674 - val_loss: 1.5483 - val_accuracy: 0.7283\n",
            "Epoch 40/50\n",
            "4500/4500 - 53s - loss: 0.0838 - accuracy: 0.9676 - val_loss: 1.5832 - val_accuracy: 0.7224\n",
            "Epoch 41/50\n",
            "4500/4500 - 53s - loss: 0.0800 - accuracy: 0.9696 - val_loss: 1.5728 - val_accuracy: 0.7244\n",
            "Epoch 42/50\n",
            "4500/4500 - 53s - loss: 0.0805 - accuracy: 0.9692 - val_loss: 1.5897 - val_accuracy: 0.7241\n",
            "Epoch 43/50\n",
            "4500/4500 - 53s - loss: 0.0770 - accuracy: 0.9704 - val_loss: 1.6100 - val_accuracy: 0.7217\n",
            "Epoch 44/50\n",
            "4500/4500 - 53s - loss: 0.0796 - accuracy: 0.9694 - val_loss: 1.6470 - val_accuracy: 0.7274\n",
            "Epoch 45/50\n",
            "4500/4500 - 53s - loss: 0.0760 - accuracy: 0.9711 - val_loss: 1.6564 - val_accuracy: 0.7228\n",
            "Epoch 46/50\n",
            "4500/4500 - 53s - loss: 0.0754 - accuracy: 0.9714 - val_loss: 1.6682 - val_accuracy: 0.7215\n",
            "Epoch 47/50\n",
            "4500/4500 - 53s - loss: 0.0739 - accuracy: 0.9719 - val_loss: 1.6583 - val_accuracy: 0.7228\n",
            "Epoch 48/50\n",
            "4500/4500 - 53s - loss: 0.0724 - accuracy: 0.9722 - val_loss: 1.7023 - val_accuracy: 0.7244\n",
            "Epoch 49/50\n",
            "4500/4500 - 53s - loss: 0.0735 - accuracy: 0.9723 - val_loss: 1.6802 - val_accuracy: 0.7275\n",
            "Epoch 50/50\n",
            "4500/4500 - 53s - loss: 0.0701 - accuracy: 0.9733 - val_loss: 1.7587 - val_accuracy: 0.7188\n",
            "Training Complete\n"
          ],
          "name": "stdout"
        }
      ]
    },
    {
      "cell_type": "code",
      "metadata": {
        "colab_type": "code",
        "id": "qxju4ItJKO8F",
        "colab": {
          "base_uri": "https://localhost:8080/",
          "height": 607
        },
        "outputId": "50bbcfdb-95b0-4d66-d97c-d26a4bfbd88e"
      },
      "source": [
        "import matplotlib.image  as mpimg\n",
        "import matplotlib.pyplot as plt\n",
        "\n",
        "#-----------------------------------------------------------\n",
        "# Retrieve a list of list results on training and test data\n",
        "# sets for each training epoch\n",
        "#-----------------------------------------------------------\n",
        "acc=history.history['accuracy']\n",
        "val_acc=history.history['val_accuracy']\n",
        "loss=history.history['loss']\n",
        "val_loss=history.history['val_loss']\n",
        "\n",
        "epochs=range(len(acc)) # Get number of epochs\n",
        "\n",
        "#------------------------------------------------\n",
        "# Plot training and validation accuracy per epoch\n",
        "#------------------------------------------------\n",
        "plt.plot(epochs, acc, 'r')\n",
        "plt.plot(epochs, val_acc, 'b')\n",
        "plt.title('Training and validation accuracy')\n",
        "plt.xlabel(\"Epochs\")\n",
        "plt.ylabel(\"Accuracy\")\n",
        "plt.legend([\"Accuracy\", \"Validation Accuracy\"])\n",
        "\n",
        "plt.figure()\n",
        "\n",
        "#------------------------------------------------\n",
        "# Plot training and validation loss per epoch\n",
        "#------------------------------------------------\n",
        "plt.plot(epochs, loss, 'r')\n",
        "plt.plot(epochs, val_loss, 'b')\n",
        "plt.title('Training and validation loss')\n",
        "plt.xlabel(\"Epochs\")\n",
        "plt.ylabel(\"Loss\")\n",
        "plt.legend([\"Loss\", \"Validation Loss\"])\n",
        "\n",
        "plt.figure()\n",
        "\n",
        "\n",
        "# Expected Output\n",
        "# A chart where the validation loss does not increase sharply!"
      ],
      "execution_count": 17,
      "outputs": [
        {
          "output_type": "execute_result",
          "data": {
            "text/plain": [
              "<Figure size 432x288 with 0 Axes>"
            ]
          },
          "metadata": {
            "tags": []
          },
          "execution_count": 17
        },
        {
          "output_type": "display_data",
          "data": {
            "image/png": "[encoded data removed]",
            "text/plain": [
              "<Figure size 432x288 with 1 Axes>"
            ]
          },
          "metadata": {
            "tags": [],
            "needs_background": "light"
          }
        },
        {
          "output_type": "display_data",
          "data": {
            "image/png": "[encoded data removed]",
            "text/plain": [
              "<Figure size 432x288 with 1 Axes>"
            ]
          },
          "metadata": {
            "tags": [],
            "needs_background": "light"
          }
        },
        {
          "output_type": "display_data",
          "data": {
            "text/plain": [
              "<Figure size 432x288 with 0 Axes>"
            ]
          },
          "metadata": {
            "tags": []
          }
        }
      ]
    },
    {
      "cell_type": "code",
      "metadata": {
        "id": "S9Pw44dxsboa",
        "colab_type": "code",
        "colab": {}
      },
      "source": [
        ""
      ],
      "execution_count": 0,
      "outputs": []
    }
  ]
}