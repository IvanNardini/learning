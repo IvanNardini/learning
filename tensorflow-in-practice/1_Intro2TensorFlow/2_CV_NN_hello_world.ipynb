{
  "nbformat": 4,
  "nbformat_minor": 0,
  "metadata": {
    "colab": {
      "name": "2_cv_nn_hello_world.ipynb",
      "provenance": [],
      "collapsed_sections": [],
      "toc_visible": true,
      "authorship_tag": "ABX9TyN4ShdI1v+llXqteeMpYSwm",
      "include_colab_link": true
    },
    "kernelspec": {
      "name": "python3",
      "display_name": "Python 3"
    }
  },
  "cells": [
    {
      "cell_type": "markdown",
      "metadata": {
        "id": "view-in-github",
        "colab_type": "text"
      },
      "source": [
        "<a href=\"https://colab.research.google.com/github/IvanNardini/Tensorflow-in-practice/blob/master/2_cv_nn_hello_world.ipynb\" target=\"_parent\"><img src=\"https://colab.research.google.com/assets/colab-badge.svg\" alt=\"Open In Colab\"/></a>"
      ]
    },
    {
      "cell_type": "markdown",
      "metadata": {
        "id": "J77jhKesRI6H",
        "colab_type": "text"
      },
      "source": [
        "# Hello CV"
      ]
    },
    {
      "cell_type": "code",
      "metadata": {
        "id": "L_pl19AfJhqT",
        "colab_type": "code",
        "colab": {}
      },
      "source": [
        "import numpy as np\n",
        "np.set_printoptions(linewidth=200)\n",
        "import keras\n",
        "import tensorflow as tf\n",
        "import matplotlib.pyplot as plt\n",
        "%matplotlib inline"
      ],
      "execution_count": 0,
      "outputs": []
    },
    {
      "cell_type": "code",
      "metadata": {
        "id": "wRAhYBcsJs4S",
        "colab_type": "code",
        "colab": {}
      },
      "source": [
        "fashion_mnist = keras.datasets.fashion_mnist\n",
        "((train_img, train_lb,), (test_img, test_lb)) = fashion_mnist.load_data()"
      ],
      "execution_count": 0,
      "outputs": []
    },
    {
      "cell_type": "code",
      "metadata": {
        "id": "3JVLEc7JWmYH",
        "colab_type": "code",
        "outputId": "c94f1006-cc3b-4bf4-cf11-f355cbdef8f2",
        "colab": {
          "base_uri": "https://localhost:8080/",
          "height": 35
        }
      },
      "source": [
        "len(train_img)"
      ],
      "execution_count": 11,
      "outputs": [
        {
          "output_type": "execute_result",
          "data": {
            "text/plain": [
              "60000"
            ]
          },
          "metadata": {
            "tags": []
          },
          "execution_count": 11
        }
      ]
    },
    {
      "cell_type": "code",
      "metadata": {
        "id": "7mCiCTpfWq2X",
        "colab_type": "code",
        "outputId": "fe05d709-bdec-40bc-b4b8-93553781277c",
        "colab": {
          "base_uri": "https://localhost:8080/",
          "height": 35
        }
      },
      "source": [
        "len(test_img)"
      ],
      "execution_count": 12,
      "outputs": [
        {
          "output_type": "execute_result",
          "data": {
            "text/plain": [
              "10000"
            ]
          },
          "metadata": {
            "tags": []
          },
          "execution_count": 12
        }
      ]
    },
    {
      "cell_type": "code",
      "metadata": {
        "id": "ywr4zM3YKJfK",
        "colab_type": "code",
        "outputId": "c399d142-8f3f-4443-c936-e22f9625fdc0",
        "colab": {
          "base_uri": "https://localhost:8080/",
          "height": 281
        }
      },
      "source": [
        "# # Plot sample image\n",
        "sample = np.random.randint(1,1000)\n",
        "sample\n",
        "image = train_img[sample]\n",
        "# plot the sample\n",
        "plt.title('Label {label}'.format(label=train_lb[sample]))\n",
        "plt.imshow(image)\n",
        "plt.colorbar()\n",
        "plt.show()"
      ],
      "execution_count": 13,
      "outputs": [
        {
          "output_type": "display_data",
          "data": {
            "image/png": "[encoded data removed]",
            "text/plain": [
              "<Figure size 432x288 with 2 Axes>"
            ]
          },
          "metadata": {
            "tags": [],
            "needs_background": "light"
          }
        }
      ]
    },
    {
      "cell_type": "code",
      "metadata": {
        "id": "bKc-f3t8VbG8",
        "colab_type": "code",
        "outputId": "16bd5154-8a26-4c76-8c8e-6d4f8ed2c4cd",
        "colab": {
          "base_uri": "https://localhost:8080/",
          "height": 540
        }
      },
      "source": [
        "print('Label {label}'.format(label=train_lb[sample]))\n",
        "print(train_img[sample])"
      ],
      "execution_count": 14,
      "outputs": [
        {
          "output_type": "stream",
          "text": [
            "Label 8\n",
            "[[  0   0   0   0   0   0   0   0   0   0   1   0  23 126 143 135 135 107   0   0   3   0   0   0   0   0   0   0]\n",
            " [  0   0   0   0   0   0   0   0   0   0   0  97 163  69   0   0   5 100 160  60   0   3   0   0   0   0   0   0]\n",
            " [  0   0   0   0   0   0   0   0   3   0 106 157   0   0   0   0   0   0   9 166  53   0   4   0   0   0   0   0]\n",
            " [  0   0   0   0   0   0   0   4   0  51 170   0   0   2   0   1   0   2   0  20 151   0   0   2   0   0   0   0]\n",
            " [  0   0   0   0   0   0   0   0   0 157  80   0   9   0   0   0   0   0   3   0 117  92   0   6   0   0   1   0]\n",
            " [  1   0   0   0   3   5   4   0  56 177   0   0   3   2   5   5   4   1   2   0  28 178   0   0   3   5   2   0]\n",
            " [  0   0   0   0   0   0   0   0  46 133   0   0   0   0   0   0   0   0   0   0   0 150  24   0   0   0   0   0]\n",
            " [  0   0   2   0  33 111  94 124 137 192  99  50  75  71  67  64  63  60  61  32 146 153 115  68  80  74   0   0]\n",
            " [  0   1   5   0  98 152 124 135 125 122 134 138 142 145 144 145 149 150 146 137 114 114 127 132 134 153  13   0]\n",
            " [  0   1   0   0 121 175 141 132 142 141 132 116 120 108 106 104 103 102 104 113 125 120 120 134 142 160  13   0]\n",
            " [  0   0   0   0 159 183 157 152 136 154 163 173 174 170 171 172 175 176 178 173 165 149 148 161 166 185  19   0]\n",
            " [  1   2   0   0 188 177 156 167 161 168 175 175 174 180 177 184 184 189 186 183 186 172 182 182 170 195  48   0]\n",
            " [  3   3   0   0 190 177 165 188 191 187 178 179 173 161 148 156 163 172 180 194 192 202 204 189 172 191  87   0]\n",
            " [  0   0   0 153 204 183 190 187 185 185 181 188 216 212 215 218 216 216 203 188 184 191 180 194 188 202 118   0]\n",
            " [  3   0  44 246 191 200 210 216 217 217 225 203 124 160 158 153 168 140 158 221 211 214 210 211 202 218 156   0]\n",
            " [  0   0 185 178 189 190 187 203 209 207 209 220  97  41  78  72  65  36 174 234 214 217 221 219 206 220 185   0]\n",
            " [  0  75 255  24 237 183 186 187 190 193 193 202 225 121  77  95  76 186 229 190 194 197 200 200 204 211 203   0]\n",
            " [  0 243  96  63 242 169 182 186 192 197 197 194 199 220 141 101 200 223 188 193 197 197 198 199 196 202 215   0]\n",
            " [  0 255   0 121 226 167 181 185 192 195 196 197 195 195 210 218 203 194 197 200 201 194 195 197 195 197 230   0]\n",
            " [123 216   0 181 209 170 180 183 193 197 198 199 199 201 197 183 197 197 197 197 199 195 197 194 196 193 236   8]\n",
            " [175  74   0 201 194 174 181 183 193 198 198 200 199 199 199 206 201 201 200 199 202 202 200 192 197 191 239  31]\n",
            " [175   0   0 228 186 179 182 187 194 199 200 201 201 198 200 202 201 199 200 200 199 199 199 195 197 191 241  47]\n",
            " [166   0   0 232 181 182 187 192 196 199 200 201 200 201 200 200 199 200 200 200 201 201 200 197 197 182 236  78]\n",
            " [ 85   0   2 241 169 183 192 196 198 200 201 201 200 200 200 199 201 200 198 200 201 201 201 199 198 184 228 116]\n",
            " [  0 118 138 198 184 192 203 208 207 208 209 209 207 206 200 195 195 195 192 194 196 197 199 200 199 193 206 141]\n",
            " [ 28 199 208 200 206 215 233 231 228 226 226 224 221 224 221 200 195 191 190 191 191 191 195 197 196 193 207 167]\n",
            " [ 31 166 203 198 198 193 191 199 206 206 206 206 206 203 219 232 246 242 236 237 237 238 230 226 228 193 207 178]\n",
            " [  0   0  42  72 109 112 128 149 170 179 178 181 185 194  95   0   4  19  17  17  17  17  20  22  21  21  30   5]]\n"
          ],
          "name": "stdout"
        }
      ]
    },
    {
      "cell_type": "markdown",
      "metadata": {
        "id": "lqBgU_GgWJgy",
        "colab_type": "text"
      },
      "source": [
        "# Data Preprocessing"
      ]
    },
    {
      "cell_type": "code",
      "metadata": {
        "id": "6ljBHRxdWOFG",
        "colab_type": "code",
        "colab": {}
      },
      "source": [
        "pp_train_img = train_img/255.0\n",
        "pp_test_img = test_img/255.0"
      ],
      "execution_count": 0,
      "outputs": []
    },
    {
      "cell_type": "markdown",
      "metadata": {
        "id": "Ym83j_27Hggk",
        "colab_type": "text"
      },
      "source": [
        "## Comment"
      ]
    },
    {
      "cell_type": "markdown",
      "metadata": {
        "id": "7wiP9YBYHipZ",
        "colab_type": "text"
      },
      "source": [
        "Why? (Have to check)"
      ]
    },
    {
      "cell_type": "markdown",
      "metadata": {
        "id": "AX2issLaRR7n",
        "colab_type": "text"
      },
      "source": [
        "# Model Training"
      ]
    },
    {
      "cell_type": "markdown",
      "metadata": {
        "id": "n1gTeS-U28d2",
        "colab_type": "text"
      },
      "source": [
        "## One hidden layer - 128 neurons (baseline)"
      ]
    },
    {
      "cell_type": "code",
      "metadata": {
        "id": "-ZIGQbgvRUyL",
        "colab_type": "code",
        "colab": {}
      },
      "source": [
        "#Define Model Architecture\n",
        "\n",
        "model = keras.Sequential([\n",
        "    # flat the square pixel image matrix in an array (28*28=784 neurons)\n",
        "    keras.layers.Flatten(input_shape = (28,28)),\n",
        "    # Hidden layer (number of neurons random)\n",
        "    keras.layers.Dense(128, activation=tf.nn.relu),\n",
        "    # output layer (10 neurons as problem classes)\n",
        "    keras.layers.Dense(10, activation=tf.nn.softmax)\n",
        "])"
      ],
      "execution_count": 0,
      "outputs": []
    },
    {
      "cell_type": "code",
      "metadata": {
        "id": "ce237izMU268",
        "colab_type": "code",
        "outputId": "ed04605b-18f2-4569-abba-046343980d5c",
        "colab": {
          "base_uri": "https://localhost:8080/",
          "height": 369
        }
      },
      "source": [
        "from keras.utils import plot_model\n",
        "plot_model(model)"
      ],
      "execution_count": 85,
      "outputs": [
        {
          "output_type": "execute_result",
          "data": {
            "image/png": "[encoded data removed]",
            "text/plain": [
              "<IPython.core.display.Image object>"
            ]
          },
          "metadata": {
            "tags": []
          },
          "execution_count": 85
        }
      ]
    },
    {
      "cell_type": "code",
      "metadata": {
        "id": "bBQFermmUYgo",
        "colab_type": "code",
        "colab": {}
      },
      "source": [
        "model.compile(optimizer='adam',\n",
        "              loss=tf.keras.losses.SparseCategoricalCrossentropy(),\n",
        "              metrics=['accuracy'])"
      ],
      "execution_count": 0,
      "outputs": []
    },
    {
      "cell_type": "code",
      "metadata": {
        "id": "Wg7V2g97Sjd7",
        "colab_type": "code",
        "outputId": "1020c7c3-6558-423f-8aa6-90ec4300cb24",
        "colab": {
          "base_uri": "https://localhost:8080/",
          "height": 243
        }
      },
      "source": [
        "model.fit(pp_train_img, train_lb, epochs=6)"
      ],
      "execution_count": 87,
      "outputs": [
        {
          "output_type": "stream",
          "text": [
            "Epoch 1/6\n",
            "60000/60000 [==============================] - 5s 79us/step - loss: 0.4979 - accuracy: 0.1044\n",
            "Epoch 2/6\n",
            "60000/60000 [==============================] - 5s 77us/step - loss: 0.3731 - accuracy: 0.1035\n",
            "Epoch 3/6\n",
            "60000/60000 [==============================] - 5s 81us/step - loss: 0.3351 - accuracy: 0.1023\n",
            "Epoch 4/6\n",
            "60000/60000 [==============================] - 5s 83us/step - loss: 0.3120 - accuracy: 0.1024\n",
            "Epoch 5/6\n",
            "60000/60000 [==============================] - 5s 81us/step - loss: 0.2950 - accuracy: 0.1021\n",
            "Epoch 6/6\n",
            "60000/60000 [==============================] - 5s 79us/step - loss: 0.2795 - accuracy: 0.1028\n"
          ],
          "name": "stdout"
        },
        {
          "output_type": "execute_result",
          "data": {
            "text/plain": [
              "<keras.callbacks.callbacks.History at 0x7f262699ab70>"
            ]
          },
          "metadata": {
            "tags": []
          },
          "execution_count": 87
        }
      ]
    },
    {
      "cell_type": "code",
      "metadata": {
        "id": "ofLZLgjXUeCg",
        "colab_type": "code",
        "outputId": "9fbdc303-3c52-404e-cee9-945504e78b57",
        "colab": {
          "base_uri": "https://localhost:8080/",
          "height": 52
        }
      },
      "source": [
        "test_loss, test_acc = model.evaluate(pp_test_img,  test_lb, verbose=2)\n",
        "\n",
        "print('\\nTest accuracy:', test_acc)"
      ],
      "execution_count": 79,
      "outputs": [
        {
          "output_type": "stream",
          "text": [
            "\n",
            "Test accuracy: 0.11379999667406082\n"
          ],
          "name": "stdout"
        }
      ]
    },
    {
      "cell_type": "code",
      "metadata": {
        "id": "BOKe4FhRU9hq",
        "colab_type": "code",
        "colab": {}
      },
      "source": [
        "model.save('model_1_128.h5')"
      ],
      "execution_count": 0,
      "outputs": []
    },
    {
      "cell_type": "markdown",
      "metadata": {
        "id": "GyzkwXu_3IoA",
        "colab_type": "text"
      },
      "source": [
        "## One hidden layer - 256 neurons"
      ]
    },
    {
      "cell_type": "code",
      "metadata": {
        "id": "_Ptqm_gb20rN",
        "colab_type": "code",
        "colab": {}
      },
      "source": [
        "def fitter(train_img, train_lb, neurons, epochs=5):\n",
        "  model = keras.Sequential([\n",
        "  keras.layers.Flatten(input_shape = (28,28)),\n",
        "  keras.layers.Dense(neurons, activation=tf.nn.relu),\n",
        "  keras.layers.Dense(10, activation=tf.nn.softmax)\n",
        "])\n",
        "  model.compile(optimizer='adam',\n",
        "              loss=tf.keras.losses.SparseCategoricalCrossentropy(),\n",
        "              metrics=['accuracy'])\n",
        "  model.fit(train_img, train_lb, epochs=epochs)\n",
        "  return model\n"
      ],
      "execution_count": 0,
      "outputs": []
    },
    {
      "cell_type": "code",
      "metadata": {
        "id": "mIPonf464DHU",
        "colab_type": "code",
        "colab": {
          "base_uri": "https://localhost:8080/",
          "height": 225
        },
        "outputId": "68eae993-3377-4944-cab8-17ee765ff69e"
      },
      "source": [
        "model = fitter(pp_train_img, train_lb, 256, 6)"
      ],
      "execution_count": 57,
      "outputs": [
        {
          "output_type": "stream",
          "text": [
            "Epoch 1/6\n",
            "60000/60000 [==============================] - 7s 115us/step - loss: 1.6864 - accuracy: 0.1208\n",
            "Epoch 2/6\n",
            "60000/60000 [==============================] - 7s 112us/step - loss: 1.6206 - accuracy: 0.1133\n",
            "Epoch 3/6\n",
            "60000/60000 [==============================] - 7s 112us/step - loss: 1.6089 - accuracy: 0.1154\n",
            "Epoch 4/6\n",
            "60000/60000 [==============================] - 7s 113us/step - loss: 1.6012 - accuracy: 0.1134\n",
            "Epoch 5/6\n",
            "60000/60000 [==============================] - 7s 111us/step - loss: 1.5958 - accuracy: 0.1145\n",
            "Epoch 6/6\n",
            "60000/60000 [==============================] - 7s 113us/step - loss: 1.5911 - accuracy: 0.1129\n"
          ],
          "name": "stdout"
        }
      ]
    },
    {
      "cell_type": "code",
      "metadata": {
        "id": "6P2Rfda74L61",
        "colab_type": "code",
        "colab": {
          "base_uri": "https://localhost:8080/",
          "height": 52
        },
        "outputId": "182e9c93-1375-4f5b-8543-be3ac29bce08"
      },
      "source": [
        "test_loss, test_acc = model.evaluate(pp_test_img,  test_lb, verbose=2)\n",
        "\n",
        "print('\\nTest accuracy:', test_acc)"
      ],
      "execution_count": 58,
      "outputs": [
        {
          "output_type": "stream",
          "text": [
            "\n",
            "Test accuracy: 0.10890000313520432\n"
          ],
          "name": "stdout"
        }
      ]
    },
    {
      "cell_type": "markdown",
      "metadata": {
        "id": "MDl1ZE06E_SY",
        "colab_type": "text"
      },
      "source": [
        "### Comment\n",
        "\n",
        "More Neurons means more calculations. \n",
        "Slower training process, but in this case we do get more accurate. That doesn't mean it's always a case of 'more is better', you can hit the law of diminishing returns."
      ]
    },
    {
      "cell_type": "code",
      "metadata": {
        "id": "r1UFEVKD4hWc",
        "colab_type": "code",
        "colab": {}
      },
      "source": [
        "model.save('model_1_256.h5')"
      ],
      "execution_count": 0,
      "outputs": []
    },
    {
      "cell_type": "markdown",
      "metadata": {
        "id": "fE0600GRDykI",
        "colab_type": "text"
      },
      "source": [
        "If we had more epochs..."
      ]
    },
    {
      "cell_type": "code",
      "metadata": {
        "id": "NWjzWC7_72GV",
        "colab_type": "code",
        "colab": {
          "base_uri": "https://localhost:8080/",
          "height": 433
        },
        "outputId": "e2029897-dc85-437f-89ef-ca90f92767f2"
      },
      "source": [
        "model = fitter(pp_train_img, train_lb, 256, 12)"
      ],
      "execution_count": 59,
      "outputs": [
        {
          "output_type": "stream",
          "text": [
            "Epoch 1/12\n",
            "60000/60000 [==============================] - 7s 115us/step - loss: 1.7587 - accuracy: 0.1140\n",
            "Epoch 2/12\n",
            "60000/60000 [==============================] - 7s 113us/step - loss: 1.6758 - accuracy: 0.1096\n",
            "Epoch 3/12\n",
            "60000/60000 [==============================] - 7s 112us/step - loss: 1.6651 - accuracy: 0.1057\n",
            "Epoch 4/12\n",
            "60000/60000 [==============================] - 7s 112us/step - loss: 1.6592 - accuracy: 0.1065\n",
            "Epoch 5/12\n",
            "60000/60000 [==============================] - 7s 120us/step - loss: 1.6537 - accuracy: 0.1053\n",
            "Epoch 6/12\n",
            "60000/60000 [==============================] - 7s 116us/step - loss: 1.6513 - accuracy: 0.1062\n",
            "Epoch 7/12\n",
            "60000/60000 [==============================] - 7s 113us/step - loss: 1.6477 - accuracy: 0.1041\n",
            "Epoch 8/12\n",
            "60000/60000 [==============================] - 7s 114us/step - loss: 1.6462 - accuracy: 0.1051\n",
            "Epoch 9/12\n",
            "60000/60000 [==============================] - 7s 113us/step - loss: 1.6056 - accuracy: 0.1045\n",
            "Epoch 10/12\n",
            "60000/60000 [==============================] - 7s 111us/step - loss: 1.5817 - accuracy: 0.1053\n",
            "Epoch 11/12\n",
            "60000/60000 [==============================] - 7s 113us/step - loss: 1.5789 - accuracy: 0.1041\n",
            "Epoch 12/12\n",
            "60000/60000 [==============================] - 7s 112us/step - loss: 1.5765 - accuracy: 0.1059\n"
          ],
          "name": "stdout"
        }
      ]
    },
    {
      "cell_type": "code",
      "metadata": {
        "id": "EfzjKTCV7_ZL",
        "colab_type": "code",
        "colab": {
          "base_uri": "https://localhost:8080/",
          "height": 52
        },
        "outputId": "28bb4945-0a5d-43f0-acfe-61e07bf7392c"
      },
      "source": [
        "test_loss, test_acc = model.evaluate(pp_test_img,  test_lb, verbose=2)\n",
        "\n",
        "print('\\nTest accuracy:', test_acc)"
      ],
      "execution_count": 60,
      "outputs": [
        {
          "output_type": "stream",
          "text": [
            "\n",
            "Test accuracy: 0.09440000355243683\n"
          ],
          "name": "stdout"
        }
      ]
    },
    {
      "cell_type": "code",
      "metadata": {
        "id": "Lh_JXVSrF1BS",
        "colab_type": "code",
        "colab": {
          "base_uri": "https://localhost:8080/",
          "height": 849
        },
        "outputId": "ef7743f8-9f47-4fb0-8618-bfa2b16f38d4"
      },
      "source": [
        "model = fitter(pp_train_img, train_lb, 256, 24)"
      ],
      "execution_count": 61,
      "outputs": [
        {
          "output_type": "stream",
          "text": [
            "Epoch 1/24\n",
            "60000/60000 [==============================] - 7s 114us/step - loss: 1.6752 - accuracy: 0.1203\n",
            "Epoch 2/24\n",
            "60000/60000 [==============================] - 7s 113us/step - loss: 1.6222 - accuracy: 0.1142\n",
            "Epoch 3/24\n",
            "60000/60000 [==============================] - 7s 114us/step - loss: 1.6086 - accuracy: 0.1159\n",
            "Epoch 4/24\n",
            "60000/60000 [==============================] - 7s 115us/step - loss: 1.6008 - accuracy: 0.1134\n",
            "Epoch 5/24\n",
            "60000/60000 [==============================] - 7s 114us/step - loss: 1.5944 - accuracy: 0.1110\n",
            "Epoch 6/24\n",
            "60000/60000 [==============================] - 7s 115us/step - loss: 1.5909 - accuracy: 0.1116\n",
            "Epoch 7/24\n",
            "60000/60000 [==============================] - 7s 114us/step - loss: 1.5892 - accuracy: 0.1115\n",
            "Epoch 8/24\n",
            "60000/60000 [==============================] - 7s 114us/step - loss: 1.5839 - accuracy: 0.1077\n",
            "Epoch 9/24\n",
            "60000/60000 [==============================] - 7s 112us/step - loss: 1.5805 - accuracy: 0.1080\n",
            "Epoch 10/24\n",
            "60000/60000 [==============================] - 7s 111us/step - loss: 1.5784 - accuracy: 0.1075\n",
            "Epoch 11/24\n",
            "60000/60000 [==============================] - 7s 112us/step - loss: 1.5752 - accuracy: 0.1053\n",
            "Epoch 12/24\n",
            "60000/60000 [==============================] - 7s 114us/step - loss: 1.5742 - accuracy: 0.1085\n",
            "Epoch 13/24\n",
            "60000/60000 [==============================] - 7s 116us/step - loss: 1.5722 - accuracy: 0.1064\n",
            "Epoch 14/24\n",
            "60000/60000 [==============================] - 7s 116us/step - loss: 1.5726 - accuracy: 0.1045\n",
            "Epoch 15/24\n",
            "60000/60000 [==============================] - 7s 116us/step - loss: 1.5678 - accuracy: 0.1085\n",
            "Epoch 16/24\n",
            "60000/60000 [==============================] - 7s 115us/step - loss: 1.5677 - accuracy: 0.1060\n",
            "Epoch 17/24\n",
            "60000/60000 [==============================] - 7s 116us/step - loss: 1.5676 - accuracy: 0.1063\n",
            "Epoch 18/24\n",
            "60000/60000 [==============================] - 7s 116us/step - loss: 1.5660 - accuracy: 0.1077\n",
            "Epoch 19/24\n",
            "60000/60000 [==============================] - 7s 116us/step - loss: 1.5655 - accuracy: 0.1056\n",
            "Epoch 20/24\n",
            "60000/60000 [==============================] - 7s 115us/step - loss: 1.5642 - accuracy: 0.1053\n",
            "Epoch 21/24\n",
            "60000/60000 [==============================] - 11s 187us/step - loss: 1.5642 - accuracy: 0.1048\n",
            "Epoch 22/24\n",
            "60000/60000 [==============================] - 7s 114us/step - loss: 1.5632 - accuracy: 0.1045\n",
            "Epoch 23/24\n",
            "60000/60000 [==============================] - 7s 113us/step - loss: 1.5609 - accuracy: 0.1057\n",
            "Epoch 24/24\n",
            "60000/60000 [==============================] - 7s 115us/step - loss: 1.5608 - accuracy: 0.1032\n"
          ],
          "name": "stdout"
        }
      ]
    },
    {
      "cell_type": "markdown",
      "metadata": {
        "id": "JF9r_EclHDln",
        "colab_type": "text"
      },
      "source": [
        "The loss value stops decreasing around 20 and 21 (and sometimes it could increase). This is a side effect of something called 'overfitting'"
      ]
    },
    {
      "cell_type": "markdown",
      "metadata": {
        "id": "DccYbr-S7ggZ",
        "colab_type": "text"
      },
      "source": [
        "## Two hidden layers "
      ]
    },
    {
      "cell_type": "code",
      "metadata": {
        "id": "AXA9Evyi5AVv",
        "colab_type": "code",
        "colab": {}
      },
      "source": [
        "def fitter(train_img, train_lb, neurons_1, neurons_2, epochs=5):\n",
        "  model = keras.Sequential([\n",
        "  keras.layers.Flatten(input_shape = (28,28)),\n",
        "  keras.layers.Dense(neurons_1, activation=tf.nn.relu),\n",
        "  keras.layers.Dense(neurons_2, activation=tf.nn.relu),\n",
        "  keras.layers.Dense(10, activation=tf.nn.softmax)\n",
        "])\n",
        "  model.compile(optimizer='adam',\n",
        "              loss=tf.keras.losses.SparseCategoricalCrossentropy(),\n",
        "              metrics=['accuracy'])\n",
        "  model.fit(train_img, train_lb, epochs=epochs)\n",
        "  return model"
      ],
      "execution_count": 0,
      "outputs": []
    },
    {
      "cell_type": "code",
      "metadata": {
        "id": "C4g8BNbS9bXB",
        "colab_type": "code",
        "colab": {
          "base_uri": "https://localhost:8080/",
          "height": 364
        },
        "outputId": "0f71d549-14f8-4463-ce24-d0fee8deca93"
      },
      "source": [
        "model = fitter(pp_train_img, train_lb, 256, 128, 10)"
      ],
      "execution_count": 89,
      "outputs": [
        {
          "output_type": "stream",
          "text": [
            "Epoch 1/10\n",
            "60000/60000 [==============================] - 7s 123us/step - loss: 0.4779 - accuracy: 0.1045\n",
            "Epoch 2/10\n",
            "60000/60000 [==============================] - 7s 123us/step - loss: 0.3565 - accuracy: 0.1027\n",
            "Epoch 3/10\n",
            "60000/60000 [==============================] - 7s 123us/step - loss: 0.3228 - accuracy: 0.1032\n",
            "Epoch 4/10\n",
            "60000/60000 [==============================] - 7s 124us/step - loss: 0.3005 - accuracy: 0.1037\n",
            "Epoch 5/10\n",
            "60000/60000 [==============================] - 7s 122us/step - loss: 0.2839 - accuracy: 0.1034\n",
            "Epoch 6/10\n",
            "60000/60000 [==============================] - 7s 124us/step - loss: 0.2684 - accuracy: 0.1033\n",
            "Epoch 7/10\n",
            "60000/60000 [==============================] - 7s 123us/step - loss: 0.2578 - accuracy: 0.1039\n",
            "Epoch 8/10\n",
            "60000/60000 [==============================] - 7s 122us/step - loss: 0.2457 - accuracy: 0.1028\n",
            "Epoch 9/10\n",
            "60000/60000 [==============================] - 7s 123us/step - loss: 0.2364 - accuracy: 0.1023\n",
            "Epoch 10/10\n",
            "60000/60000 [==============================] - 7s 123us/step - loss: 0.2254 - accuracy: 0.1023\n"
          ],
          "name": "stdout"
        }
      ]
    },
    {
      "cell_type": "code",
      "metadata": {
        "id": "NWV1JAtq9wPb",
        "colab_type": "code",
        "colab": {
          "base_uri": "https://localhost:8080/",
          "height": 52
        },
        "outputId": "9e450f5a-d606-4f56-c3ce-0ac19a3765a8"
      },
      "source": [
        "test_loss, test_acc = model.evaluate(pp_test_img,  test_lb, verbose=2)\n",
        "\n",
        "print('\\nTest accuracy:', test_acc)"
      ],
      "execution_count": 90,
      "outputs": [
        {
          "output_type": "stream",
          "text": [
            "\n",
            "Test accuracy: 0.09149999916553497\n"
          ],
          "name": "stdout"
        }
      ]
    },
    {
      "cell_type": "code",
      "metadata": {
        "id": "OtFvSPQY-HUd",
        "colab_type": "code",
        "colab": {}
      },
      "source": [
        "model.save('model_2_256_128.h5')"
      ],
      "execution_count": 0,
      "outputs": []
    },
    {
      "cell_type": "markdown",
      "metadata": {
        "id": "qwxMFxwg-p-M",
        "colab_type": "text"
      },
      "source": [
        "### Comment\n",
        "\n",
        "It looks like if the problem is simple, you don't need a great brain (easy to solve, small set of layers)"
      ]
    },
    {
      "cell_type": "markdown",
      "metadata": {
        "id": "iPQuDPhlJce-",
        "colab_type": "text"
      },
      "source": [
        "# Training improvements"
      ]
    },
    {
      "cell_type": "markdown",
      "metadata": {
        "id": "diTEM4BhJiEC",
        "colab_type": "text"
      },
      "source": [
        "## Callbacks\n",
        "\n",
        "Would it be nice if I could stop the training when I reach a desired value?' -- i.e. 95% accuracy might be enough for you"
      ]
    },
    {
      "cell_type": "code",
      "metadata": {
        "id": "gIzmUM-ZJg1R",
        "colab_type": "code",
        "colab": {}
      },
      "source": [
        "class myCallback(tf.keras.callbacks.Callback):\n",
        "  def on_epoch_end(self, epoch, logs={}):\n",
        "    if(logs.get('loss')<1.6):\n",
        "      print(\"\\nReached xx% accuracy so cancelling training!\")\n",
        "      self.model.stop_training = True\n",
        "callback = myCallback()"
      ],
      "execution_count": 0,
      "outputs": []
    },
    {
      "cell_type": "code",
      "metadata": {
        "id": "v7NL8g7JJ2nK",
        "colab_type": "code",
        "colab": {}
      },
      "source": [
        "def fitter(train_img, train_lb, neurons, callback):\n",
        "  model = keras.Sequential([\n",
        "  keras.layers.Flatten(input_shape = (28,28)),\n",
        "  keras.layers.Dense(neurons, activation=tf.nn.relu),\n",
        "  keras.layers.Dense(10, activation=tf.nn.softmax)\n",
        "])\n",
        "  model.compile(optimizer='adam',\n",
        "              loss=tf.keras.losses.SparseCategoricalCrossentropy(),\n",
        "              metrics=['accuracy'])\n",
        "  model.fit(train_img, train_lb, epochs=5, callbacks=[callback])\n",
        "  return model\n"
      ],
      "execution_count": 0,
      "outputs": []
    },
    {
      "cell_type": "code",
      "metadata": {
        "id": "Pub_HhB9KIMk",
        "colab_type": "code",
        "colab": {
          "base_uri": "https://localhost:8080/",
          "height": 87
        },
        "outputId": "de5c3a71-6561-4b7b-db18-a416622e8b40"
      },
      "source": [
        "model = fitter(pp_train_img, train_lb, 128, callback)"
      ],
      "execution_count": 94,
      "outputs": [
        {
          "output_type": "stream",
          "text": [
            "Epoch 1/5\n",
            "60000/60000 [==============================] - 5s 78us/step - loss: 0.5028 - accuracy: 0.1032\n",
            "\n",
            "Reached xx% accuracy so cancelling training!\n"
          ],
          "name": "stdout"
        }
      ]
    }
  ]
}